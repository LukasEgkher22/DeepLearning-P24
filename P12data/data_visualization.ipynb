{
 "cells": [
  {
   "cell_type": "markdown",
   "metadata": {},
   "source": [
    "# Run in dlProject environment"
   ]
  },
  {
   "cell_type": "code",
   "execution_count": 1,
   "metadata": {},
   "outputs": [],
   "source": [
    "import os\n",
    "import pandas as pd\n",
    "import numpy as np\n",
    "initial_wd = \"/zhome/42/8/213460\"\n"
   ]
  },
  {
   "cell_type": "code",
   "execution_count": 2,
   "metadata": {},
   "outputs": [],
   "source": [
    "def concatenate_and_save_data(root_folder, output_path):\n",
    "    # Create an empty list to hold the data from all files\n",
    "    all_data = []\n",
    "\n",
    "    # Loop through each 'split' folder (split_1 to split_5)\n",
    "    for split_number in range(1, 6):\n",
    "        split_folder = os.path.join(root_folder, f'split_{split_number}')\n",
    "        \n",
    "        # Define the list of file names in each split folder\n",
    "        file_names = [f'test_physionet2012_{split_number}.npy', f'train_physionet2012_{split_number}.npy', f'validation_physionet2012_{split_number}.npy']\n",
    "        \n",
    "        # Loop through each file and load the data\n",
    "        for file_name in file_names:\n",
    "            file_path = os.path.join(split_folder, file_name)\n",
    "            \n",
    "            # Check if the file exists\n",
    "            if os.path.exists(file_path):\n",
    "                # Load the data from the .npy file\n",
    "                data = np.load(file_path, allow_pickle=True)\n",
    "                \n",
    "                # Convert the data to a pandas DataFrame\n",
    "                df = pd.DataFrame({'data': data})\n",
    "                \n",
    "                # Optionally, add a column to track the split number and file type\n",
    "                df['split'] = split_number\n",
    "                df['type'] = file_name.split('_')[0]\n",
    "                \n",
    "                # Append the data from this file to the all_data list\n",
    "                all_data.append(df)\n",
    "            else:\n",
    "                print(f\"Path to {file_path} doesn't exist.\")\n",
    "\n",
    "    # Concatenate all DataFrames into one large DataFrame\n",
    "    merged_df = pd.concat(all_data, ignore_index=True)\n",
    "\n",
    "    print(merged_df.shape)\n",
    "\n",
    "    file_path = os.path.join(output_path, 'data_merged.csv')\n",
    "    if os.path.exists(file_path):\n",
    "        print(\"File exists already.\")\n",
    "    # Add your code here to create or handle the file\n",
    "    else:\n",
    "        # save to csv\n",
    "        merged_df.to_csv(file_path, index=False, encoding=\"utf-8\", header=True, sep=\";\")\n",
    "    return merged_df"
   ]
  },
  {
   "cell_type": "code",
   "execution_count": 3,
   "metadata": {},
   "outputs": [
    {
     "name": "stdout",
     "output_type": "stream",
     "text": [
      "(59940, 3)\n",
      "File exists already.\n"
     ]
    }
   ],
   "source": [
    "input_path = initial_wd + \"/DeepLearning-P24/P12data\"\n",
    "output_path = initial_wd + \"/DeepLearning-P24/MAMBA\"\n",
    "data = concatenate_and_save_data(input_path, output_path)"
   ]
  },
  {
   "cell_type": "markdown",
   "metadata": {},
   "source": [
    "# Run in Mamba Environment"
   ]
  },
  {
   "cell_type": "code",
   "execution_count": 5,
   "metadata": {},
   "outputs": [
    {
     "name": "stdout",
     "output_type": "stream",
     "text": [
      "/zhome/42/8/213460/DeepLearning-P24/MAMBA\n",
      "/zhome/42/8/213460/DeepLearning-P24/MAMBA\n"
     ]
    },
    {
     "data": {
      "text/html": [
       "<div>\n",
       "<style scoped>\n",
       "    .dataframe tbody tr th:only-of-type {\n",
       "        vertical-align: middle;\n",
       "    }\n",
       "\n",
       "    .dataframe tbody tr th {\n",
       "        vertical-align: top;\n",
       "    }\n",
       "\n",
       "    .dataframe thead th {\n",
       "        text-align: right;\n",
       "    }\n",
       "</style>\n",
       "<table border=\"1\" class=\"dataframe\">\n",
       "  <thead>\n",
       "    <tr style=\"text-align: right;\">\n",
       "      <th></th>\n",
       "      <th>data</th>\n",
       "      <th>split</th>\n",
       "      <th>type</th>\n",
       "    </tr>\n",
       "  </thead>\n",
       "  <tbody>\n",
       "    <tr>\n",
       "      <th>0</th>\n",
       "      <td>{'ts_values': array([[ 0.169661  ,  0.        ...</td>\n",
       "      <td>1</td>\n",
       "      <td>test</td>\n",
       "    </tr>\n",
       "    <tr>\n",
       "      <th>1</th>\n",
       "      <td>{'ts_values': array([[-0.32848355,  0.        ...</td>\n",
       "      <td>1</td>\n",
       "      <td>test</td>\n",
       "    </tr>\n",
       "    <tr>\n",
       "      <th>2</th>\n",
       "      <td>{'ts_values': array([[-0.93597676,  0.        ...</td>\n",
       "      <td>1</td>\n",
       "      <td>test</td>\n",
       "    </tr>\n",
       "    <tr>\n",
       "      <th>3</th>\n",
       "      <td>{'ts_values': array([[-0.94812659,  0.        ...</td>\n",
       "      <td>1</td>\n",
       "      <td>test</td>\n",
       "    </tr>\n",
       "    <tr>\n",
       "      <th>4</th>\n",
       "      <td>{'ts_values': array([[-0.57553073,  0.        ...</td>\n",
       "      <td>1</td>\n",
       "      <td>test</td>\n",
       "    </tr>\n",
       "    <tr>\n",
       "      <th>...</th>\n",
       "      <td>...</td>\n",
       "      <td>...</td>\n",
       "      <td>...</td>\n",
       "    </tr>\n",
       "    <tr>\n",
       "      <th>59935</th>\n",
       "      <td>{'ts_values': array([[-0.09534583,  0.        ...</td>\n",
       "      <td>5</td>\n",
       "      <td>validation</td>\n",
       "    </tr>\n",
       "    <tr>\n",
       "      <th>59936</th>\n",
       "      <td>{'ts_values': array([[-0.79239581,  0.        ...</td>\n",
       "      <td>5</td>\n",
       "      <td>validation</td>\n",
       "    </tr>\n",
       "    <tr>\n",
       "      <th>59937</th>\n",
       "      <td>{'ts_values': array([[-0.52646922,  0.        ...</td>\n",
       "      <td>5</td>\n",
       "      <td>validation</td>\n",
       "    </tr>\n",
       "    <tr>\n",
       "      <th>59938</th>\n",
       "      <td>{'ts_values': array([[-1.61435098,  0.        ...</td>\n",
       "      <td>5</td>\n",
       "      <td>validation</td>\n",
       "    </tr>\n",
       "    <tr>\n",
       "      <th>59939</th>\n",
       "      <td>{'ts_values': array([[ 0.11820145,  0.        ...</td>\n",
       "      <td>5</td>\n",
       "      <td>validation</td>\n",
       "    </tr>\n",
       "  </tbody>\n",
       "</table>\n",
       "<p>59940 rows × 3 columns</p>\n",
       "</div>"
      ],
      "text/plain": [
       "                                                    data  split        type\n",
       "0      {'ts_values': array([[ 0.169661  ,  0.        ...      1        test\n",
       "1      {'ts_values': array([[-0.32848355,  0.        ...      1        test\n",
       "2      {'ts_values': array([[-0.93597676,  0.        ...      1        test\n",
       "3      {'ts_values': array([[-0.94812659,  0.        ...      1        test\n",
       "4      {'ts_values': array([[-0.57553073,  0.        ...      1        test\n",
       "...                                                  ...    ...         ...\n",
       "59935  {'ts_values': array([[-0.09534583,  0.        ...      5  validation\n",
       "59936  {'ts_values': array([[-0.79239581,  0.        ...      5  validation\n",
       "59937  {'ts_values': array([[-0.52646922,  0.        ...      5  validation\n",
       "59938  {'ts_values': array([[-1.61435098,  0.        ...      5  validation\n",
       "59939  {'ts_values': array([[ 0.11820145,  0.        ...      5  validation\n",
       "\n",
       "[59940 rows x 3 columns]"
      ]
     },
     "execution_count": 5,
     "metadata": {},
     "output_type": "execute_result"
    }
   ],
   "source": [
    "import sys\n",
    "import os\n",
    "print(os.getcwd())\n",
    "os.chdir(initial_wd + \"/DeepLearning-P24/MAMBA\")\n",
    "print(os.getcwd())\n",
    "from odyssey.models.model_utils import load_pretrain_data\n",
    "path = os.getcwd() + \"/data_merged.csv\"\n",
    "\n",
    "data = load_pretrain_data(path)\n",
    "data.shape\n",
    "data"
   ]
  }
 ],
 "metadata": {
  "kernelspec": {
   "display_name": "Mamba",
   "language": "python",
   "name": "python3"
  },
  "language_info": {
   "codemirror_mode": {
    "name": "ipython",
    "version": 3
   },
   "file_extension": ".py",
   "mimetype": "text/x-python",
   "name": "python",
   "nbconvert_exporter": "python",
   "pygments_lexer": "ipython3",
   "version": "3.9.20"
  }
 },
 "nbformat": 4,
 "nbformat_minor": 2
}
