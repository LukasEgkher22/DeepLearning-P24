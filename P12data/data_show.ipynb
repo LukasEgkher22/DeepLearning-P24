{
 "cells": [
  {
   "cell_type": "code",
   "execution_count": 1,
   "metadata": {},
   "outputs": [],
   "source": [
    "import pandas as pd\n",
    "import numpy as np\n",
    "import os"
   ]
  },
  {
   "cell_type": "code",
   "execution_count": 5,
   "metadata": {},
   "outputs": [],
   "source": [
    "df = np.load('/zhome/b0/3/214044/Project_NEW/DeepLearning-P24/P12data/split_1/train_physionet2012_1.npy', allow_pickle = True)"
   ]
  },
  {
   "cell_type": "code",
   "execution_count": 6,
   "metadata": {},
   "outputs": [
    {
     "name": "stdout",
     "output_type": "stream",
     "text": [
      "ts_values: (74, 37)\n",
      "ts_indicators: (74, 37)\n",
      "ts_times: (74,)\n",
      "static: (8,)\n",
      "labels: ()\n"
     ]
    }
   ],
   "source": [
    "keys = df[0].keys()\n",
    "\n",
    "for key in keys:\n",
    "    print(f'{key}: {df[0][key].shape}')"
   ]
  },
  {
   "cell_type": "code",
   "execution_count": 16,
   "metadata": {},
   "outputs": [],
   "source": [
    "maxim = 0\n",
    "for i in range(len(df)):\n",
    "    temp_len = df[i]['ts_values'].shape[0]\n",
    "    if temp_len > maxim:\n",
    "        maxim = temp_len"
   ]
  },
  {
   "cell_type": "code",
   "execution_count": 17,
   "metadata": {},
   "outputs": [
    {
     "data": {
      "text/plain": [
       "215"
      ]
     },
     "execution_count": 17,
     "metadata": {},
     "output_type": "execute_result"
    }
   ],
   "source": [
    "maxim"
   ]
  },
  {
   "cell_type": "code",
   "execution_count": 2,
   "metadata": {},
   "outputs": [
    {
     "name": "stdout",
     "output_type": "stream",
     "text": [
      "Prime factors of 56: [2, 2, 2, 7]\n"
     ]
    }
   ],
   "source": [
    "def get_prime_factors(n):\n",
    "    \"\"\"Returns the prime factors of a given number.\"\"\"\n",
    "    prime_factors = []\n",
    "    # Divide by 2 until n is odd\n",
    "    while n % 2 == 0:\n",
    "        prime_factors.append(2)\n",
    "        n //= 2\n",
    "    \n",
    "    # Check for odd factors from 3 onwards\n",
    "    factor = 3\n",
    "    while factor * factor <= n:\n",
    "        while n % factor == 0:\n",
    "            prime_factors.append(factor)\n",
    "            n //= factor\n",
    "        factor += 2\n",
    "    \n",
    "    # If n is still greater than 2, it is prime\n",
    "    if n > 2:\n",
    "        prime_factors.append(n)\n",
    "    \n",
    "    return prime_factors\n",
    "\n",
    "# Example usage\n",
    "number = 56\n",
    "print(f\"Prime factors of {number}: {get_prime_factors(number)}\")"
   ]
  },
  {
   "cell_type": "code",
   "execution_count": 3,
   "metadata": {},
   "outputs": [
    {
     "data": {
      "text/plain": [
       "[2, 2, 2, 2, 2, 2, 2, 2, 3, 3]"
      ]
     },
     "execution_count": 3,
     "metadata": {},
     "output_type": "execute_result"
    }
   ],
   "source": [
    "get_prime_factors(2304)"
   ]
  },
  {
   "cell_type": "code",
   "execution_count": 11,
   "metadata": {},
   "outputs": [
    {
     "name": "stdout",
     "output_type": "stream",
     "text": [
      "1646\n"
     ]
    }
   ],
   "source": [
    "for i in range(len(df)):\n",
    "    if df[i]['ts_values'].shape[0]==207:\n",
    "        print(i)"
   ]
  },
  {
   "cell_type": "code",
   "execution_count": 13,
   "metadata": {},
   "outputs": [
    {
     "data": {
      "text/plain": [
       "array([[ 1.04850105,  0.        ,  0.        , ...,  0.        ,\n",
       "         0.        ,  0.        ],\n",
       "       [ 0.        ,  0.        ,  0.        , ...,  0.        ,\n",
       "         0.        ,  0.        ],\n",
       "       [ 0.        ,  0.        ,  0.        , ...,  0.        ,\n",
       "         0.        ,  0.        ],\n",
       "       ...,\n",
       "       [ 0.        ,  0.        ,  0.        , ...,  0.        ,\n",
       "         0.41727864,  0.        ],\n",
       "       [ 1.0080015 ,  0.        ,  0.        , ..., -0.11827794,\n",
       "         0.        ,  0.        ],\n",
       "       [ 1.0080015 ,  0.        ,  0.        , ..., -0.11827794,\n",
       "         0.        ,  0.        ]])"
      ]
     },
     "execution_count": 13,
     "metadata": {},
     "output_type": "execute_result"
    }
   ],
   "source": [
    "df[0]['ts_values']"
   ]
  },
  {
   "cell_type": "code",
   "execution_count": 15,
   "metadata": {},
   "outputs": [
    {
     "data": {
      "text/plain": [
       "{'ts_values': array([[-0.26773423,  0.        ,  0.        , ...,  0.        ,\n",
       "          0.        ,  0.        ],\n",
       "        [ 0.        ,  0.        ,  0.        , ...,  0.        ,\n",
       "          0.        , -0.0053984 ],\n",
       "        [ 0.        ,  0.        ,  0.        , ...,  0.        ,\n",
       "          0.        , -0.02023282],\n",
       "        ...,\n",
       "        [ 0.9310523 ,  0.        ,  0.        , ...,  0.        ,\n",
       "          0.        ,  0.        ],\n",
       "        [ 0.9310523 ,  0.        ,  0.        , ...,  0.        ,\n",
       "          0.        ,  0.        ],\n",
       "        [ 0.9310523 ,  0.        ,  0.        , ...,  0.        ,\n",
       "          0.        ,  0.        ]]),\n",
       " 'ts_indicators': array([[ True, False, False, ..., False, False, False],\n",
       "        [False, False, False, ..., False, False,  True],\n",
       "        [False, False, False, ..., False, False,  True],\n",
       "        ...,\n",
       "        [ True, False, False, ..., False, False, False],\n",
       "        [ True, False, False, ..., False, False, False],\n",
       "        [ True, False, False, ..., False, False, False]]),\n",
       " 'ts_times': array([ 0.        ,  0.06666667,  0.8833333 ,  1.2       ,  2.        ,\n",
       "         2.6333334 ,  3.4166667 ,  4.        ,  4.4166665 ,  4.85      ,\n",
       "         5.1833334 ,  5.366667  ,  5.7166667 ,  5.9666667 ,  6.2       ,\n",
       "         6.8       ,  7.3       ,  7.616667  ,  7.7166667 ,  7.8333335 ,\n",
       "         8.5       ,  8.75      ,  8.816667  ,  9.        ,  9.083333  ,\n",
       "         9.2       ,  9.333333  ,  9.5       ,  9.633333  ,  9.65      ,\n",
       "         9.75      ,  9.816667  , 10.        , 10.2       , 10.266666  ,\n",
       "        10.5       , 10.666667  , 11.        , 11.183333  , 11.5       ,\n",
       "        11.583333  , 11.666667  , 11.683333  , 11.75      , 11.916667  ,\n",
       "        12.        , 12.25      , 12.45      , 12.5       , 12.683333  ,\n",
       "        12.75      , 13.        , 13.25      , 13.266666  , 13.5       ,\n",
       "        13.75      , 13.95      , 14.        , 14.25      , 14.266666  ,\n",
       "        14.316667  , 14.5       , 14.75      , 15.        , 15.25      ,\n",
       "        15.5       , 15.75      , 15.916667  , 16.        , 16.25      ,\n",
       "        16.5       , 16.75      , 16.816668  , 16.866667  , 16.916666  ,\n",
       "        17.        , 17.25      , 17.5       , 17.666666  , 17.75      ,\n",
       "        18.        , 18.25      , 18.5       , 18.7       , 18.75      ,\n",
       "        19.        , 19.25      , 19.333334  , 19.5       , 19.7       ,\n",
       "        19.75      , 20.        , 20.25      , 20.366667  , 20.5       ,\n",
       "        20.75      , 21.        , 21.166666  , 21.25      , 21.5       ,\n",
       "        21.75      , 21.866667  , 22.        , 22.016666  , 22.166666  ,\n",
       "        22.25      , 22.5       , 22.666666  , 22.75      , 23.        ,\n",
       "        23.25      , 23.383333  , 23.5       , 23.75      , 24.        ,\n",
       "        24.116667  , 24.25      , 24.3       , 24.383333  , 24.5       ,\n",
       "        24.75      , 25.        , 25.233334  , 25.3       , 25.5       ,\n",
       "        25.666666  , 26.        , 26.5       , 27.        , 27.016666  ,\n",
       "        27.5       , 28.        , 28.466667  , 28.5       , 28.716667  ,\n",
       "        29.        , 29.066668  , 29.5       , 29.75      , 29.95      ,\n",
       "        30.        , 30.066668  , 31.        , 31.116667  , 32.        ,\n",
       "        32.5       , 32.75      , 33.        , 33.133335  , 33.25      ,\n",
       "        33.5       , 33.683334  , 33.75      , 34.        , 34.133335  ,\n",
       "        34.25      , 34.5       , 34.583332  , 34.75      , 34.833332  ,\n",
       "        34.866665  , 35.        , 35.25      , 35.5       , 35.566666  ,\n",
       "        35.75      , 35.866665  , 35.966667  , 36.        , 36.25      ,\n",
       "        36.5       , 36.75      , 37.        , 37.333332  , 37.716667  ,\n",
       "        38.        , 38.333332  , 38.5       , 38.95      , 39.        ,\n",
       "        40.        , 40.5       , 40.8       , 41.        , 41.2       ,\n",
       "        41.5       , 41.75      , 41.8       , 42.        , 42.25      ,\n",
       "        42.366665  , 42.5       , 42.75      , 43.        , 43.366665  ,\n",
       "        43.416668  , 43.5       , 43.983334  , 44.        , 44.783333  ,\n",
       "        45.        , 45.666668  , 45.783333  , 46.        , 46.25      ,\n",
       "        46.333332  , 46.416668  ], dtype=float32),\n",
       " 'static': array([-1.66806834,  0.        ,  1.        ,  0.91650846,  0.        ,\n",
       "         1.        ,  0.        ,  0.        ]),\n",
       " 'labels': 1}"
      ]
     },
     "execution_count": 15,
     "metadata": {},
     "output_type": "execute_result"
    }
   ],
   "source": [
    "df[1646]"
   ]
  },
  {
   "cell_type": "code",
   "execution_count": 14,
   "metadata": {},
   "outputs": [
    {
     "data": {
      "text/plain": [
       "(207, 37)"
      ]
     },
     "execution_count": 14,
     "metadata": {},
     "output_type": "execute_result"
    }
   ],
   "source": [
    "df[1646]['ts_values'].shape"
   ]
  },
  {
   "cell_type": "code",
   "execution_count": 2,
   "metadata": {},
   "outputs": [
    {
     "data": {
      "text/plain": [
       "23.0"
      ]
     },
     "execution_count": 2,
     "metadata": {},
     "output_type": "execute_result"
    }
   ],
   "source": [
    "207/9"
   ]
  },
  {
   "cell_type": "code",
   "execution_count": 8,
   "metadata": {},
   "outputs": [
    {
     "data": {
      "text/plain": [
       "array([[ True, False, False, ..., False, False, False],\n",
       "       [False, False, False, ..., False, False, False],\n",
       "       [False, False, False, ..., False, False, False],\n",
       "       ...,\n",
       "       [False, False, False, ..., False,  True, False],\n",
       "       [ True, False, False, ...,  True, False, False],\n",
       "       [ True, False, False, ...,  True, False, False]])"
      ]
     },
     "execution_count": 8,
     "metadata": {},
     "output_type": "execute_result"
    }
   ],
   "source": [
    "df[0]['ts_indicators']"
   ]
  }
 ],
 "metadata": {
  "kernelspec": {
   "display_name": "mamba_p12",
   "language": "python",
   "name": "python3"
  },
  "language_info": {
   "codemirror_mode": {
    "name": "ipython",
    "version": 3
   },
   "file_extension": ".py",
   "mimetype": "text/x-python",
   "name": "python",
   "nbconvert_exporter": "python",
   "pygments_lexer": "ipython3",
   "version": "3.9.20"
  }
 },
 "nbformat": 4,
 "nbformat_minor": 2
}
